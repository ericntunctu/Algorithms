{
 "cells": [
  {
   "cell_type": "code",
   "execution_count": 33,
   "metadata": {},
   "outputs": [],
   "source": [
    "import collections\n",
    "import math\n",
    "from collections import defaultdict\n",
    "\n",
    "\n",
    "# define class graph\n",
    "\n",
    "\n",
    "class Graph:\n",
    "    def __init__(self):\n",
    "        self.vertices=set()\n",
    "        self.edges= collections.defaultdict(list)\n",
    "        self.weights={}#empty dictionary\n",
    "        self.bigd={}\n",
    "        self.edgelist=[]\n",
    "    \n",
    "    def add_vertex(self, value):\n",
    "        self.vertices.add(value)  \n",
    "   \n",
    "   \n",
    "    def add_edge(self, from_vertex, to_vertex, distance):\n",
    "        self.edges[from_vertex].append(to_vertex)\n",
    "        self.weights[(from_vertex, to_vertex)] = distance\n",
    "        self.bigd[(from_vertex, to_vertex)] = 1\n",
    "        self.edgelist.append((from_vertex, to_vertex))  \n",
    "        \n",
    "    def add_doubleedge(self, from_vertex, to_vertex, distance):\n",
    "        self.edges[from_vertex].append(to_vertex)\n",
    "        self.edges[to_vertex].append(from_vertex)\n",
    "        self.weights[(from_vertex, to_vertex)] = distance\n",
    "        self.weights[(to_vertex, from_vertex)] = distance\n",
    "        self.bigd[(from_vertex, to_vertex)] = 1\n",
    "        self.bigd[(to_vertex,  from_vertex)] = 1\n",
    "        self.edgelist.append((from_vertex, to_vertex))    \n",
    "        self.edgelist.append((to_vertex, from_vertex))  \n",
    "        \n",
    "        \n",
    "        \n",
    "def bigd(G, start, end):   #如果有邊 輸出1 , 如果沒邊 輸出0\n",
    "    if (start, end) in G.bigd.keys():\n",
    "        return G.bigd[(start, end)]\n",
    "    else:\n",
    "        return 0\n",
    "\n",
    "        \n",
    "        \n",
    "        \n",
    "    \n",
    "        "
   ]
  },
  {
   "cell_type": "code",
   "execution_count": 12,
   "metadata": {},
   "outputs": [],
   "source": [
    "set().update('fg', 'hi')"
   ]
  },
  {
   "cell_type": "code",
   "execution_count": 9,
   "metadata": {},
   "outputs": [
    {
     "name": "stdout",
     "output_type": "stream",
     "text": [
      "None\n"
     ]
    }
   ],
   "source": []
  },
  {
   "cell_type": "code",
   "execution_count": 16,
   "metadata": {},
   "outputs": [],
   "source": [
    "def dijkstra(graph, start):\n",
    "    S=set()\n",
    "    delta=dict.fromkeys(list(graph.vertices), math.inf) #change set into list and give each edge a weight called infinity\n",
    "    previous = dict.fromkeys(list(graph.vertices), None)\n",
    "    delta[start]=0\n",
    "    while S != graph.vertices:\n",
    "        v = min((set(delta.keys()) - S), key=delta.get)\n",
    "        for neighbor in set(graph.edges[v]) - S:\n",
    "            new_path = delta[v]+graph.weights[v,neighbor]\n",
    "            if new_path < delta[neighbor]:\n",
    "        # since it's optimal, update the shortest path for neighbor\n",
    "                delta[neighbor] = new_path\n",
    "                previous[neighbor] = v\n",
    "        S.add(v)\n",
    "    return (delta, previous)    \n",
    "        \n",
    " \n",
    "def shortest_path(graph, start, end):\n",
    "  delta, previous = dijkstra(graph, start)\n",
    "  \n",
    "  path = []\n",
    "  vertex = end\n",
    " \n",
    "  while vertex is not None:\n",
    "    path.append(vertex)\n",
    "    vertex = previous[vertex]\n",
    " \n",
    "  path.reverse()\n",
    "  return path\n",
    "\n",
    "\n",
    "def length(graph, start, end):\n",
    "    k=0\n",
    "    for i in range(0, len(shortest_path(graph, start, end))-1):\n",
    "        k+=graph.weights[(shortest_path(graph, start, end)[i],shortest_path(graph, start, end)[i+1])]\n",
    "    return k\n",
    "    "
   ]
  },
  {
   "cell_type": "code",
   "execution_count": 34,
   "metadata": {
    "scrolled": true
   },
   "outputs": [
    {
     "data": {
      "text/plain": [
       "['a', 'f', 'c', 'e']"
      ]
     },
     "execution_count": 34,
     "metadata": {},
     "output_type": "execute_result"
    }
   ],
   "source": [
    "G = Graph()\n",
    "G.add_vertex('a')\n",
    "G.add_vertex('b')\n",
    "G.add_vertex('c')\n",
    "G.add_vertex('d')\n",
    "G.add_vertex('e')\n",
    "G.add_vertex('f')\n",
    "G.add_vertex('g')\n",
    "\n",
    " \n",
    "G.add_edge('a', 'b', 32)\n",
    "G.add_edge('b', 'a', 32)\n",
    "G.add_edge('f', 'a', 32)\n",
    "G.add_edge('a', 'f', 3)\n",
    "G.add_edge('b', 'f', 7)\n",
    "G.add_edge('f', 'b', 7)\n",
    "\n",
    "\n",
    "G.add_edge('b', 'c', 21)\n",
    "G.add_edge('c', 'b', 21)\n",
    "G.add_edge('b', 'e', 12)\n",
    "G.add_edge('e', 'b', 12)\n",
    "\n",
    "\n",
    "G.add_edge('c', 'e', 6)\n",
    "G.add_edge('e', 'c', 6)\n",
    "G.add_edge('c', 'g', 11)\n",
    "\n",
    "\n",
    "G.add_edge('c', 'f', 2)\n",
    "G.add_edge('f', 'c', 2)\n",
    "\n",
    "G.add_edge('d', 'e', 13)\n",
    "G.add_edge('e', 'd', 13)\n",
    "\n",
    "\n",
    "G.add_edge('d', 'g', 9)\n",
    "G.add_edge('g', 'd', 9)\n",
    "\n",
    " \n",
    "\n",
    "dijkstra(G, 'a')\n",
    "shortest_path(G, 'a', 'e')\n"
   ]
  },
  {
   "cell_type": "code",
   "execution_count": 35,
   "metadata": {},
   "outputs": [
    {
     "data": {
      "text/plain": [
       "defaultdict(list,\n",
       "            {'a': ['b', 'f'],\n",
       "             'b': ['a', 'f', 'c', 'e'],\n",
       "             'c': ['b', 'e', 'g', 'f'],\n",
       "             'd': ['e', 'g'],\n",
       "             'e': ['b', 'c', 'd'],\n",
       "             'f': ['a', 'b', 'c'],\n",
       "             'g': ['d']})"
      ]
     },
     "execution_count": 35,
     "metadata": {},
     "output_type": "execute_result"
    }
   ],
   "source": [
    "G.vertices\n",
    "G.edges"
   ]
  },
  {
   "cell_type": "code",
   "execution_count": 36,
   "metadata": {},
   "outputs": [
    {
     "data": {
      "text/plain": [
       "{'a', 'b', 'c', 'd', 'e', 'f', 'g'}"
      ]
     },
     "execution_count": 36,
     "metadata": {},
     "output_type": "execute_result"
    }
   ],
   "source": [
    "G.vertices"
   ]
  },
  {
   "cell_type": "code",
   "execution_count": 32,
   "metadata": {},
   "outputs": [
    {
     "ename": "KeyError",
     "evalue": "'e'",
     "output_type": "error",
     "traceback": [
      "\u001b[1;31m---------------------------------------------------------------------------\u001b[0m",
      "\u001b[1;31mKeyError\u001b[0m                                  Traceback (most recent call last)",
      "\u001b[1;32m<ipython-input-32-03c45d0b8a3e>\u001b[0m in \u001b[0;36m<module>\u001b[1;34m()\u001b[0m\n\u001b[0;32m      7\u001b[0m              \u001b[1;34m'f'\u001b[0m\u001b[1;33m:\u001b[0m \u001b[1;33m[\u001b[0m\u001b[1;34m'a'\u001b[0m\u001b[1;33m,\u001b[0m \u001b[1;34m'b'\u001b[0m\u001b[1;33m,\u001b[0m \u001b[1;34m'c'\u001b[0m\u001b[1;33m]\u001b[0m\u001b[1;33m,\u001b[0m\u001b[1;33m\u001b[0m\u001b[0m\n\u001b[0;32m      8\u001b[0m              'g': ['d']}))\n\u001b[1;32m----> 9\u001b[1;33m \u001b[0mshortest_path\u001b[0m\u001b[1;33m(\u001b[0m\u001b[0mF\u001b[0m\u001b[1;33m,\u001b[0m \u001b[1;34m'a'\u001b[0m\u001b[1;33m,\u001b[0m \u001b[1;34m'e'\u001b[0m\u001b[1;33m)\u001b[0m\u001b[1;33m\u001b[0m\u001b[0m\n\u001b[0m",
      "\u001b[1;32m<ipython-input-16-9ea670162e90>\u001b[0m in \u001b[0;36mshortest_path\u001b[1;34m(graph, start, end)\u001b[0m\n\u001b[0;32m     24\u001b[0m   \u001b[1;32mwhile\u001b[0m \u001b[0mvertex\u001b[0m \u001b[1;32mis\u001b[0m \u001b[1;32mnot\u001b[0m \u001b[1;32mNone\u001b[0m\u001b[1;33m:\u001b[0m\u001b[1;33m\u001b[0m\u001b[0m\n\u001b[0;32m     25\u001b[0m     \u001b[0mpath\u001b[0m\u001b[1;33m.\u001b[0m\u001b[0mappend\u001b[0m\u001b[1;33m(\u001b[0m\u001b[0mvertex\u001b[0m\u001b[1;33m)\u001b[0m\u001b[1;33m\u001b[0m\u001b[0m\n\u001b[1;32m---> 26\u001b[1;33m     \u001b[0mvertex\u001b[0m \u001b[1;33m=\u001b[0m \u001b[0mprevious\u001b[0m\u001b[1;33m[\u001b[0m\u001b[0mvertex\u001b[0m\u001b[1;33m]\u001b[0m\u001b[1;33m\u001b[0m\u001b[0m\n\u001b[0m\u001b[0;32m     27\u001b[0m \u001b[1;33m\u001b[0m\u001b[0m\n\u001b[0;32m     28\u001b[0m   \u001b[0mpath\u001b[0m\u001b[1;33m.\u001b[0m\u001b[0mreverse\u001b[0m\u001b[1;33m(\u001b[0m\u001b[1;33m)\u001b[0m\u001b[1;33m\u001b[0m\u001b[0m\n",
      "\u001b[1;31mKeyError\u001b[0m: 'e'"
     ]
    }
   ],
   "source": []
  },
  {
   "cell_type": "code",
   "execution_count": 19,
   "metadata": {},
   "outputs": [
    {
     "data": {
      "text/plain": [
       "['a', 'b', 'f', 'c']"
      ]
     },
     "execution_count": 19,
     "metadata": {},
     "output_type": "execute_result"
    }
   ],
   "source": [
    "find_path(G, 'a', 'c', path=[])"
   ]
  },
  {
   "cell_type": "code",
   "execution_count": 21,
   "metadata": {},
   "outputs": [
    {
     "data": {
      "text/plain": [
       "[['a', 'b', 'f', 'c'],\n",
       " ['a', 'b', 'c'],\n",
       " ['a', 'b', 'e', 'c'],\n",
       " ['a', 'f', 'b', 'c'],\n",
       " ['a', 'f', 'b', 'e', 'c'],\n",
       " ['a', 'f', 'c']]"
      ]
     },
     "execution_count": 21,
     "metadata": {},
     "output_type": "execute_result"
    }
   ],
   "source": [
    "find_all_paths(G, 'a', 'c', path=[])"
   ]
  },
  {
   "cell_type": "code",
   "execution_count": 37,
   "metadata": {},
   "outputs": [],
   "source": [
    "def find_path(graph, start, end, path=[]):\n",
    "    path = path + [start]\n",
    "    if start == end:\n",
    "        return path\n",
    "    if not start in dict(graph.edges).keys():\n",
    "        return None\n",
    "    for node in graph.edges[start]:\n",
    "        if node not in path:\n",
    "            newpath = find_path(graph, node, end, path)\n",
    "            if newpath: return newpath\n",
    "    return None\n",
    "def find_all_paths(graph, start, end, path=[]):  #these code can find all paths from start to end\n",
    "    path = path + [start]\n",
    "    if start == end:\n",
    "        return [path]\n",
    "    if not start in  dict(graph.edges).keys():\n",
    "        return []\n",
    "    paths = []\n",
    "    for node in graph.edges[start]:\n",
    "        if node not in path:\n",
    "            newpaths = find_all_paths(graph, node, end, path)\n",
    "            for newpath in newpaths:\n",
    "                paths.append(newpath)\n",
    "    return paths"
   ]
  },
  {
   "cell_type": "code",
   "execution_count": 38,
   "metadata": {},
   "outputs": [],
   "source": [
    "def Findhamiltonian_Path(graph, start, end, path=[]):\n",
    "    for i in find_all_paths(graph, start, end, path=[]):\n",
    "        if len(i)==len(graph.vertices):\n",
    "            return i\n",
    "\n",
    "        \n",
    "        \n",
    "        \n",
    "    "
   ]
  },
  {
   "cell_type": "code",
   "execution_count": 98,
   "metadata": {},
   "outputs": [],
   "source": [
    "def list_append(lst, item):\n",
    "  lst.append(item)\n",
    "  return lst\n",
    "\n",
    "\n",
    "def Findhamiltonian_Cycle(graph, start, end, path=[]):\n",
    "    \n",
    "    for i in find_all_paths(graph, start, end, path=[]):\n",
    "        if len(i)==len(graph.vertices) and bigd(graph, i[len(graph.vertices)-1], start)==1:\n",
    "             return list_append(i, start)\n",
    "            \n",
    "def Find_all_hamiltonian_Cycle(graph, start):\n",
    "    a=[]\n",
    "    for i in list(G.vertices-set(start)):\n",
    "        list_append(a, Findhamiltonian_Cycle(graph, start, i, path=[]))\n",
    "    return a    \n",
    "            "
   ]
  },
  {
   "cell_type": "code",
   "execution_count": 81,
   "metadata": {},
   "outputs": [
    {
     "data": {
      "text/plain": [
       "['a', 'f', 'c', 'g', 'd', 'e', 'b', 'a']"
      ]
     },
     "execution_count": 81,
     "metadata": {},
     "output_type": "execute_result"
    }
   ],
   "source": [
    "Findhamiltonian_Cycle(G, 'a', 'b', path=[])"
   ]
  },
  {
   "cell_type": "code",
   "execution_count": 82,
   "metadata": {},
   "outputs": [],
   "source": [
    "G = Graph()\n",
    "G.add_vertex('a')\n",
    "G.add_vertex('b')\n",
    "G.add_vertex('c')\n",
    "G.add_vertex('d')\n",
    "G.add_vertex('e')\n",
    "\n",
    "\n",
    " \n",
    "G.add_edge('a', 'b', 0)\n",
    "G.add_edge('b', 'a', 0)\n",
    "\n",
    "G.add_edge('a', 'c', 0)\n",
    "G.add_edge('c', 'a', 0)\n",
    "\n",
    "G.add_edge('b', 'c', 0)\n",
    "G.add_edge('c', 'b', 0)\n",
    "\n",
    "G.add_edge('d', 'c', 0)\n",
    "G.add_edge('c', 'd', 0)\n",
    "\n",
    "G.add_edge('d', 'b', 0)\n",
    "G.add_edge('b', 'd', 0)\n",
    "\n",
    "G.add_edge('e', 'b', 0)\n",
    "G.add_edge('b', 'e', 0)\n",
    "\n",
    "G.add_edge('e', 'a', 0)\n",
    "G.add_edge('a', 'e', 0)\n",
    "\n",
    "\n",
    "G.add_edge('e', 'd', 0)\n",
    "G.add_edge('d', 'e', 0)\n",
    "\n",
    "\n",
    " "
   ]
  },
  {
   "cell_type": "code",
   "execution_count": 96,
   "metadata": {},
   "outputs": [
    {
     "data": {
      "text/plain": [
       "['a', 'b', 'c', 'd', 'e', 'a']"
      ]
     },
     "execution_count": 96,
     "metadata": {},
     "output_type": "execute_result"
    }
   ],
   "source": [
    "Findhamiltonian_Cycle(G, 'a', 'e', path=[])"
   ]
  },
  {
   "cell_type": "code",
   "execution_count": 97,
   "metadata": {},
   "outputs": [
    {
     "data": {
      "text/plain": [
       "['a', 'b', 'e', 'd', 'c', 'a']"
      ]
     },
     "execution_count": 97,
     "metadata": {},
     "output_type": "execute_result"
    }
   ],
   "source": [
    "Findhamiltonian_Cycle(G, 'a', 'c', path=[])"
   ]
  },
  {
   "cell_type": "code",
   "execution_count": 86,
   "metadata": {},
   "outputs": [
    {
     "data": {
      "text/plain": [
       "['e', 'c', 'b', 'd', 'a']"
      ]
     },
     "execution_count": 86,
     "metadata": {},
     "output_type": "execute_result"
    }
   ],
   "source": [
    "list(G.vertices)  "
   ]
  },
  {
   "cell_type": "code",
   "execution_count": 99,
   "metadata": {},
   "outputs": [
    {
     "data": {
      "text/plain": [
       "[['a', 'b', 'c', 'd', 'e', 'a'],\n",
       " ['a', 'b', 'e', 'd', 'c', 'a'],\n",
       " ['a', 'c', 'd', 'e', 'b', 'a'],\n",
       " None]"
      ]
     },
     "execution_count": 99,
     "metadata": {},
     "output_type": "execute_result"
    }
   ],
   "source": [
    "Find_all_hamiltonian_Cycle(G, 'a')"
   ]
  },
  {
   "cell_type": "code",
   "execution_count": 102,
   "metadata": {},
   "outputs": [],
   "source": [
    "G = Graph()\n",
    "G.add_vertex('a')\n",
    "G.add_vertex('b')\n",
    "G.add_vertex('c')\n",
    "G.add_vertex('d')\n",
    "G.add_vertex('e')\n",
    "\n",
    "\n",
    " \n",
    "G.add_doubleedge('a', 'b', 0)\n",
    "G.add_doubleedge('a', 'c', 0)\n",
    "G.add_doubleedge('a', 'e', 0)\n",
    "G.add_doubleedge('a', 'd', 0)\n",
    "G.add_doubleedge('c', 'b', 0)\n",
    "G.add_doubleedge('d', 'c', 0)\n",
    "G.add_doubleedge('c', 'e', 0)\n",
    "G.add_doubleedge('e', 'd', 0)\n"
   ]
  },
  {
   "cell_type": "code",
   "execution_count": 103,
   "metadata": {},
   "outputs": [
    {
     "data": {
      "text/plain": [
       "[['a', 'b', 'c', 'd', 'e', 'a'],\n",
       " None,\n",
       " ['a', 'e', 'd', 'c', 'b', 'a'],\n",
       " ['a', 'b', 'c', 'e', 'd', 'a']]"
      ]
     },
     "execution_count": 103,
     "metadata": {},
     "output_type": "execute_result"
    }
   ],
   "source": [
    "Find_all_hamiltonian_Cycle(G, 'a')"
   ]
  },
  {
   "cell_type": "code",
   "execution_count": 114,
   "metadata": {},
   "outputs": [],
   "source": [
    "#Euler graph\n",
    "def degree(graph, start):\n",
    "    return len(graph.edges[start])\n",
    "def check_how_many_odd(graph):\n",
    "    a=0\n",
    "    for i in list(graph.vertices):\n",
    "        if degree(graph, i)%2==1:\n",
    "            a+=1\n",
    "    return a"
   ]
  },
  {
   "cell_type": "code",
   "execution_count": 115,
   "metadata": {},
   "outputs": [
    {
     "data": {
      "text/plain": [
       "2"
      ]
     },
     "execution_count": 115,
     "metadata": {},
     "output_type": "execute_result"
    }
   ],
   "source": [
    "check_how_many_odd(G)"
   ]
  },
  {
   "cell_type": "code",
   "execution_count": 37,
   "metadata": {},
   "outputs": [],
   "source": [
    "import networkx as nx\n",
    "import matplotlib.pyplot as plt"
   ]
  },
  {
   "cell_type": "code",
   "execution_count": 47,
   "metadata": {},
   "outputs": [
    {
     "data": {
      "text/plain": [
       "[(1, 2), (1, 3), (1, 4), (2, 3)]"
      ]
     },
     "execution_count": 47,
     "metadata": {},
     "output_type": "execute_result"
    }
   ],
   "source": [
    "G = nx.Graph()\n",
    "G.add_node(1)\n",
    "G.add_node(2)\n",
    "G.add_node(3)\n",
    "G.add_node(4)\n",
    "G.add_edge(1, 2)\n",
    "G.add_edge(3, 2)\n",
    "G.add_edge(1, 3)\n",
    "G.add_edge(1, 4)\n",
    "list(G.edges)"
   ]
  },
  {
   "cell_type": "code",
   "execution_count": 58,
   "metadata": {},
   "outputs": [
    {
     "data": {
      "image/png": "[encoded data removed]",
      "text/plain": [
       "<matplotlib.figure.Figure at 0xb076400>"
      ]
     },
     "metadata": {},
     "output_type": "display_data"
    }
   ],
   "source": [
    "nx.draw(G, with_labels=True)\n",
    "\n",
    "G = nx.hypercube_graph(2)\n",
    "nx.draw(G, with_labels=True)"
   ]
  },
  {
   "cell_type": "code",
   "execution_count": 60,
   "metadata": {},
   "outputs": [
    {
     "ename": "NameError",
     "evalue": "name 'fast_gnp_random_graph' is not defined",
     "output_type": "error",
     "traceback": [
      "\u001b[1;31m---------------------------------------------------------------------------\u001b[0m",
      "\u001b[1;31mNameError\u001b[0m                                 Traceback (most recent call last)",
      "\u001b[1;32m<ipython-input-60-48b6a8665854>\u001b[0m in \u001b[0;36m<module>\u001b[1;34m()\u001b[0m\n\u001b[1;32m----> 1\u001b[1;33m \u001b[0mfast_gnp_random_graph\u001b[0m\u001b[1;33m(\u001b[0m\u001b[1;36m3\u001b[0m\u001b[1;33m,\u001b[0m \u001b[1;36m4\u001b[0m\u001b[1;33m,\u001b[0m \u001b[0mseed\u001b[0m\u001b[1;33m=\u001b[0m\u001b[1;32mNone\u001b[0m\u001b[1;33m,\u001b[0m \u001b[0mdirected\u001b[0m\u001b[1;33m=\u001b[0m\u001b[1;32mFalse\u001b[0m\u001b[1;33m)\u001b[0m\u001b[1;33m\u001b[0m\u001b[0m\n\u001b[0m",
      "\u001b[1;31mNameError\u001b[0m: name 'fast_gnp_random_graph' is not defined"
     ]
    }
   ],
   "source": [
    "fast_gnp_random_graph(3, 4, seed=None, directed=False)"
   ]
  },
  {
   "cell_type": "code",
   "execution_count": null,
   "metadata": {},
   "outputs": [],
   "source": []
  }
 ],
 "metadata": {
  "kernelspec": {
   "display_name": "Python 3",
   "language": "python",
   "name": "python3"
  },
  "language_info": {
   "codemirror_mode": {
    "name": "ipython",
    "version": 3
   },
   "file_extension": ".py",
   "mimetype": "text/x-python",
   "name": "python",
   "nbconvert_exporter": "python",
   "pygments_lexer": "ipython3",
   "version": "3.5.6"
  }
 },
 "nbformat": 4,
 "nbformat_minor": 2
}
